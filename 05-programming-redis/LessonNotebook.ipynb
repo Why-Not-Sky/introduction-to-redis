{
 "metadata": {
  "name": "",
  "signature": "sha256:0e98093713d2750b2f1c602bfa565d47d70bf49cabaaaa4f88f8582920203d38"
 },
 "nbformat": 3,
 "nbformat_minor": 0,
 "worksheets": [
  {
   "cells": [
    {
     "cell_type": "markdown",
     "metadata": {},
     "source": [
      "# Programming Redis"
     ]
    },
    {
     "cell_type": "markdown",
     "metadata": {},
     "source": [
      "## Using Redis with Python"
     ]
    },
    {
     "cell_type": "markdown",
     "metadata": {},
     "source": [
      "## Using Redis with node.js "
     ]
    },
    {
     "cell_type": "markdown",
     "metadata": {},
     "source": [
      "## Other Languages"
     ]
    },
    {
     "cell_type": "code",
     "collapsed": false,
     "input": [],
     "language": "python",
     "metadata": {},
     "outputs": []
    }
   ],
   "metadata": {}
  }
 ]
}