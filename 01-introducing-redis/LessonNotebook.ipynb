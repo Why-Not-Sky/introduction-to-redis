{
 "metadata": {
  "name": "",
  "signature": "sha256:d85f08b376e88a22976a014a876dfa21190d47f5d9cc5fa4d5180b706d7f38a2"
 },
 "nbformat": 3,
 "nbformat_minor": 0,
 "worksheets": [
  {
   "cells": [
    {
     "cell_type": "markdown",
     "metadata": {},
     "source": [
      "# Introducing Redis, the instructor, and this course"
     ]
    },
    {
     "cell_type": "code",
     "collapsed": false,
     "input": [
      "import redis"
     ],
     "language": "python",
     "metadata": {},
     "outputs": [],
     "prompt_number": 1
    },
    {
     "cell_type": "markdown",
     "metadata": {},
     "source": [
      "## What is Redis?"
     ]
    },
    {
     "cell_type": "markdown",
     "metadata": {},
     "source": [
      "## The Instructor"
     ]
    },
    {
     "cell_type": "markdown",
     "metadata": {},
     "source": [
      "## This Course"
     ]
    }
   ],
   "metadata": {}
  }
 ]
}