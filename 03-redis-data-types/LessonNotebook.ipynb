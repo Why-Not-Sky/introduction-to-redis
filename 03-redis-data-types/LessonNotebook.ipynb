{
 "metadata": {
  "name": "",
  "signature": "sha256:cefa466555f420714ddfcb5084da41f9d6311c1b7d74e2a7960e63c77e280ea8"
 },
 "nbformat": 3,
 "nbformat_minor": 0,
 "worksheets": [
  {
   "cells": [
    {
     "cell_type": "markdown",
     "metadata": {},
     "source": [
      "# Redis Data-Types"
     ]
    },
    {
     "cell_type": "markdown",
     "metadata": {},
     "source": [
      "## It all starts with a string key and value\n",
      "The simplist Redis data-type is a collection of characters, a string."
     ]
    },
    {
     "cell_type": "code",
     "collapsed": false,
     "input": [
      "import redis\n",
      "local_redis = redis.StrictRedis() # Defaults to localhost:6379\n"
     ],
     "language": "python",
     "metadata": {},
     "outputs": [],
     "prompt_number": 3
    },
    {
     "cell_type": "markdown",
     "metadata": {},
     "source": [
      "## List Data-Type"
     ]
    },
    {
     "cell_type": "markdown",
     "metadata": {},
     "source": [
      "## Hash DataType"
     ]
    },
    {
     "cell_type": "markdown",
     "metadata": {},
     "source": [
      "## Set DataType"
     ]
    },
    {
     "cell_type": "markdown",
     "metadata": {},
     "source": [
      "## Sorted Set"
     ]
    },
    {
     "cell_type": "code",
     "collapsed": false,
     "input": [],
     "language": "python",
     "metadata": {},
     "outputs": []
    }
   ],
   "metadata": {}
  }
 ]
}