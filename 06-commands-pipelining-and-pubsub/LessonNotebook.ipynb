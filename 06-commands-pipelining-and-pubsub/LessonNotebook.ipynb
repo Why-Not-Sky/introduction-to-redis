{
 "metadata": {
  "name": "",
  "signature": "sha256:000a2276f395bdc173bbc52e34565bdbea2347a2d9d8274ccd94ef1005827335"
 },
 "nbformat": 3,
 "nbformat_minor": 0,
 "worksheets": [
  {
   "cells": [
    {
     "cell_type": "markdown",
     "metadata": {},
     "source": [
      "# Commands for Pipelining and PubSub with Redis"
     ]
    },
    {
     "cell_type": "code",
     "collapsed": false,
     "input": [],
     "language": "python",
     "metadata": {},
     "outputs": []
    }
   ],
   "metadata": {}
  }
 ]
}