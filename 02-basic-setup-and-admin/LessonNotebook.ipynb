{
 "metadata": {
  "name": "",
  "signature": "sha256:ad6afc4d17d598123795af2b470cbe732f1bd447bf46c83de5838457768f78ea"
 },
 "nbformat": 3,
 "nbformat_minor": 0,
 "worksheets": [
  {
   "cells": [
    {
     "cell_type": "markdown",
     "metadata": {},
     "source": [
      "# Basic Setup and Administration"
     ]
    },
    {
     "cell_type": "markdown",
     "metadata": {},
     "source": [
      "## Installation\n",
      "To install Redis on Linux or MacOS, follow these directions [source](http://redis.io/download):\n",
      "\n",
      "    wget http://download.redis.io/releases/redis-2.8.17.tar.gz\n",
      "    tar xzf redis-2.8.17.tar.gz\n",
      "    cd redis-2.8.17\n",
      "    make"
     ]
    },
    {
     "cell_type": "markdown",
     "metadata": {},
     "source": [
      "## Configuration"
     ]
    },
    {
     "cell_type": "markdown",
     "metadata": {},
     "source": [
      "## Starting in Development mode\n"
     ]
    },
    {
     "cell_type": "code",
     "collapsed": false,
     "input": [],
     "language": "python",
     "metadata": {},
     "outputs": []
    }
   ],
   "metadata": {}
  }
 ]
}