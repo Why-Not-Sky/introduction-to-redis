{
 "metadata": {
  "name": "",
  "signature": "sha256:11a6d3fbf19dea11805bbae8b079cd7394b15175aee7408b91815d200f769191"
 },
 "nbformat": 3,
 "nbformat_minor": 0,
 "worksheets": [
  {
   "cells": [
    {
     "cell_type": "markdown",
     "metadata": {},
     "source": [
      "# Operating A Redis System - One word MEMORY"
     ]
    },
    {
     "cell_type": "code",
     "collapsed": false,
     "input": [
      "import redis"
     ],
     "language": "python",
     "metadata": {},
     "outputs": [],
     "prompt_number": 1
    },
    {
     "cell_type": "code",
     "collapsed": false,
     "input": [],
     "language": "python",
     "metadata": {},
     "outputs": []
    }
   ],
   "metadata": {}
  }
 ]
}