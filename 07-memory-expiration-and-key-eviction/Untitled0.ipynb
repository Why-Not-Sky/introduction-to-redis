{
 "metadata": {
  "name": "",
  "signature": "sha256:c7f054ae89233603a9ab58b76bbf1b003e5cefac906a92a345660a7b37d187ba"
 },
 "nbformat": 3,
 "nbformat_minor": 0,
 "worksheets": []
}